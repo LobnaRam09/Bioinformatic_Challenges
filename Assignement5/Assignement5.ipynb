{
 "cells": [
  {
   "cell_type": "markdown",
   "metadata": {},
   "source": [
    "# Assignement5: SPARQL queries\n",
    "\n",
    "\n",
    "##Lobna Ramadane\n",
    "\n",
    "\n",
    "\n",
    "Q1: 1 POINT  How many protein records are in UniProt? "
   ]
  },
  {
   "cell_type": "code",
   "execution_count": 2,
   "metadata": {},
   "outputs": [
    {
     "data": {
      "text/html": [
       "<div class=\"krn-spql\"><div class=\"magic\">Endpoint set to: https://sparql.uniprot.org/sparql</div><div class=\"magic\">Return format: JSON</div></div>"
      ],
      "text/plain": [
       "Endpoint set to: https://sparql.uniprot.org/sparql\n",
       "Return format: JSON\n"
      ]
     },
     "metadata": {},
     "output_type": "display_data"
    }
   ],
   "source": [
    "%endpoint https://sparql.uniprot.org/sparql\n",
    "%format JSON"
   ]
  },
  {
   "cell_type": "code",
   "execution_count": 2,
   "metadata": {},
   "outputs": [
    {
     "data": {
      "text/html": [
       "<div class=\"krn-spql\"><table><tr class=hdr><th>protein_count</th></tr><tr class=odd><td class=val>360157660</td></tr></table><div class=\"tinfo\">Total: 1, Shown: 1</div></div>"
      ]
     },
     "metadata": {},
     "output_type": "display_data"
    }
   ],
   "source": [
    "PREFIX uniprot:<http://purl.uniprot.org/uniprot/> \n",
    "PREFIX up:<http://purl.uniprot.org/core/> \n",
    "PREFIX rdfs:<http://www.w3.org/2000/01/rdf-schema#>\n",
    "\n",
    "SELECT (STR(COUNT(?protein)) as ?protein_count)\n",
    "WHERE\n",
    "{\n",
    "?protein a up:Protein\n",
    "}\n"
   ]
  },
  {
   "cell_type": "markdown",
   "metadata": {},
   "source": [
    "Q2: 1 POINT How many Arabidopsis thaliana protein records are in UniProt? "
   ]
  },
  {
   "cell_type": "code",
   "execution_count": 3,
   "metadata": {},
   "outputs": [
    {
     "data": {
      "text/html": [
       "<div class=\"krn-spql\"><table><tr class=hdr><th>count</th></tr><tr class=odd><td class=val>136782</td></tr></table><div class=\"tinfo\">Total: 1, Shown: 1</div></div>"
      ]
     },
     "metadata": {},
     "output_type": "display_data"
    }
   ],
   "source": [
    "PREFIX up:<http://purl.uniprot.org/core/> \n",
    "PREFIX taxon:<http://purl.uniprot.org/taxonomy/>\n",
    "\n",
    "SELECT (STR(COUNT(?protein)) as ?count)\n",
    "\n",
    "WHERE \n",
    "{\n",
    "  \t\t\t?protein a up:Protein;\n",
    "           \t\t\t\tup:organism taxon:3702\n",
    "}\n"
   ]
  },
  {
   "cell_type": "markdown",
   "metadata": {},
   "source": [
    "Q3: 1 POINT retrieve pictures of Arabidopsis thaliana from UniProt? \n"
   ]
  },
  {
   "cell_type": "code",
   "execution_count": 4,
   "metadata": {},
   "outputs": [
    {
     "data": {
      "text/html": [
       "<div class=\"krn-spql\"><table><tr class=hdr><th>name</th>\n",
       "<th>image</th></tr><tr class=odd><td class=val>Arabidopsis thaliana</td>\n",
       "<td class=val><a href=\"https://upload.wikimedia.org/wikipedia/commons/3/39/Arabidopsis.jpg\" target=\"_other\">https://upload.wikimedia.org/wikipedia/commons/3/39/Arabidopsis.jpg</a></td></tr><tr class=even><td class=val>Arabidopsis thaliana</td>\n",
       "<td class=val><a href=\"https://upload.wikimedia.org/wikipedia/commons/thumb/6/60/Arabidopsis_thaliana_inflorescencias.jpg/800px-Arabidopsis_thaliana_inflorescencias.jpg\" target=\"_other\">https://upload.wikimedia.org/wikipedia/commons/thumb/6/60/Arabidopsis_thaliana_inflorescencias.jpg/800px-Arabidopsis_thaliana_inflorescencias.jpg</a></td></tr></table><div class=\"tinfo\">Total: 2, Shown: 2</div></div>"
      ]
     },
     "metadata": {},
     "output_type": "display_data"
    }
   ],
   "source": [
    "PREFIX up:<http://purl.uniprot.org/core/> \n",
    "PREFIX foaf:<http://xmlns.com/foaf/0.1/>\n",
    "\n",
    "SELECT ?name ?image\n",
    "WHERE {\n",
    "       ?taxon    foaf:depiction  ?image .\n",
    "       ?taxon    up:scientificName   ?name .\n",
    "       FILTER(CONTAINS(?name, \"Arabidopsis thaliana\"))\n",
    "}"
   ]
  },
  {
   "cell_type": "markdown",
   "metadata": {},
   "source": [
    "What is the description of the enzyme activity of UniProt Protein Q9SZZ8 "
   ]
  },
  {
   "cell_type": "code",
   "execution_count": null,
   "metadata": {},
   "outputs": [
    {
     "data": {
      "text/html": [
       "<div class=\"krn-spql\"><table><tr class=hdr><th>activity_label</th></tr><tr class=odd><td class=val>Beta-carotene + 4 reduced ferredoxin [iron-sulfur] cluster + 2 H(+) + 2 O(2) = zeaxanthin + 4 oxidized ferredoxin [iron-sulfur] cluster + 2 H(2)O.</td></tr></table><div class=\"tinfo\">Total: 1, Shown: 1</div></div>"
      ]
     },
     "metadata": {},
     "output_type": "display_data"
    }
   ],
   "source": [
    "PREFIX uniprot:<http://purl.uniprot.org/uniprot/> \n",
    "PREFIX up:<http://purl.uniprot.org/core/> \n",
    "PREFIX rdfs:<http://www.w3.org/2000/01/rdf-schema#>\n",
    "\n",
    "SELECT ?activity_label\n",
    "WHERE\n",
    "{\n",
    "\t\t\tuniprot:Q9SZZ8 a up:Protein ;\n",
    "\t\t\t \t\tup:enzyme ?enzyme.\n",
    "\t\t\t?enzyme up:activity ?activity.\n",
    "    \t\t\t\t?activity rdfs:label ?activity_label\n",
    "}\n"
   ]
  },
  {
   "cell_type": "markdown",
   "metadata": {},
   "source": [
    "Q5: 1 POINT:  Retrieve the proteins ids, and date of submission, for proteins that have been added to UniProt this year   (HINT Google for “SPARQL FILTER by date”)"
   ]
  },
  {
   "cell_type": "code",
   "execution_count": 33,
   "metadata": {},
   "outputs": [
    {
     "data": {
      "text/html": [
       "<div class=\"krn-spql\"><table><tr class=hdr><th>protein</th>\n",
       "<th>date_sub</th></tr></table><div class=\"tinfo\">Total: 0, Shown: 0</div></div>"
      ]
     },
     "metadata": {},
     "output_type": "display_data"
    }
   ],
   "source": [
    "PREFIX up: <http://purl.uniprot.org/core/>\n",
    "PREFIX xsd: <http://www.w3.org/2001/XMLSchema#>\n",
    "\n",
    "SELECT DISTINCT ?protein ?date_sub\n",
    "WHERE {\n",
    "\t?protein a up:Protein .\n",
    "\t?protein up:created ?date_sub .\n",
    "    FILTER((xsd:date(?date_sub) >= \"2021-01-01\"^^xsd:date))\n",
    "}\n",
    "#I don't know why this doesn't work here I tried the same in sparql uniprot and got an output\n",
    "#The output is uploaded in a csv"
   ]
  },
  {
   "cell_type": "markdown",
   "metadata": {},
   "source": [
    "Q6: 1 POINT How  many species are in the UniProt taxonomy?"
   ]
  },
  {
   "cell_type": "code",
   "execution_count": null,
   "metadata": {},
   "outputs": [
    {
     "data": {
      "text/html": [
       "<div class=\"krn-spql\"><table><tr class=hdr><th>species</th></tr><tr class=odd><td class=val>2029846</td></tr></table><div class=\"tinfo\">Total: 1, Shown: 1</div></div>"
      ]
     },
     "metadata": {},
     "output_type": "display_data"
    }
   ],
   "source": [
    "PREFIX taxon:<http://purl.uniprot.org/taxonomy/> \n",
    "PREFIX up:<http://purl.uniprot.org/core/> \n",
    "\n",
    "SELECT (COUNT(DISTINCT ?taxon) AS ?species) #\n",
    "WHERE\n",
    "{\n",
    "  ?taxon a up:Taxon ;\n",
    "           up:rank up:Species . \n",
    "}"
   ]
  },
  {
   "cell_type": "markdown",
   "metadata": {},
   "source": [
    "Q7: 2 POINT  How many species have at least one protein record? (this might take a long time to execute, so do this one last!)"
   ]
  },
  {
   "cell_type": "code",
   "execution_count": null,
   "metadata": {},
   "outputs": [],
   "source": [
    "PREFIX up: <http://purl.uniprot.org/core/>\n",
    "PREFIX rdfs:<http://www.w3.org/2000/01/rdf-schema#> \n",
    "\n",
    "SELECT (COUNT (DISTINCT ?specie) AS ?count)\n",
    "\n",
    "WHERE\n",
    "{\n",
    "  ?protein a up:Protein ;\n",
    "    up:organism ?specie .\n",
    "    \n",
    "  ?specie a up:Taxon;\n",
    "          up:rank up:Species .\n",
    "  \n",
    "}\n",
    "#Because this one took too long i did it in https://sparql.uniprot.org/sparql/ \n",
    "#the result is 1057158\n"
   ]
  },
  {
   "attachments": {
    "image.png": {
     "image/png": "[encoded data removed]"
    }
   },
   "cell_type": "markdown",
   "metadata": {},
   "source": [
    "![image.png](attachment:image.png)"
   ]
  },
  {
   "cell_type": "markdown",
   "metadata": {},
   "source": [
    "Q8: 3 points:  find the AGI codes and gene names for all Arabidopsis thaliana  proteins that have a protein function annotation description that mentions “pattern formation”"
   ]
  },
  {
   "cell_type": "code",
   "execution_count": 17,
   "metadata": {},
   "outputs": [
    {
     "data": {
      "text/html": [
       "<div class=\"krn-spql\"><table><tr class=hdr><th>agi_code</th>\n",
       "<th>name</th></tr></table><div class=\"tinfo\">Total: 0, Shown: 0</div></div>"
      ]
     },
     "metadata": {},
     "output_type": "display_data"
    }
   ],
   "source": [
    "PREFIX up: <http://purl.uniprot.org/core/>\n",
    "PREFIX rdfs:<http://www.w3.org/2000/01/rdf-schema#> \n",
    "PREFIX skos: <http://www.w3.org/2004/02/skos/core#>\n",
    "PREFIX taxon:<http://purl.uniprot.org/taxonomy/> \n",
    "\n",
    "SELECT ?agi ?gene_name\n",
    "WHERE\n",
    "{\n",
    "  ?protein a up:Protein ;\n",
    "            up:organism taxon:3702;\n",
    "            up:encodedBy ?gene;\n",
    "            up:annotation ?annotation.\n",
    "  \n",
    "  ?gene up:locusName ?agi ;\n",
    "        skos:prefLabel ?gene_name .   \n",
    "  \n",
    "  ?annotation a up:Function_Annotation ;\n",
    "                rdfs:comment ?description .\n",
    "  \n",
    "  FILTER CONTAINS (str(?description), 'pattern formation') .\n",
    "\n",
    "}\n"
   ]
  },
  {
   "cell_type": "markdown",
   "metadata": {},
   "source": [
    "From the MetaNetX metabolic networks for metagenomics database SPARQL Endpoint: https://rdf.metanetx.org/sparql\n",
    "(this slide deck will make it much easier for you!  https://www.metanetx.org/cgi-bin/mnxget/mnxref/MetaNetX_RDF_schema.pdf)\n",
    "\n",
    "\n",
    "Q9: 4 POINTS:  what is the MetaNetX Reaction identifier (starts with “mnxr”) for the UniProt Protein uniprotkb:Q18A79"
   ]
  },
  {
   "cell_type": "code",
   "execution_count": 8,
   "metadata": {},
   "outputs": [
    {
     "data": {
      "text/html": [
       "<div class=\"krn-spql\"><div class=\"magic\">Endpoint set to: https://rdf.metanetx.org/sparql</div><div class=\"magic\">Return format: JSON</div></div>"
      ],
      "text/plain": [
       "Endpoint set to: https://rdf.metanetx.org/sparql\n",
       "Return format: JSON\n"
      ]
     },
     "metadata": {},
     "output_type": "display_data"
    }
   ],
   "source": [
    "%endpoint https://rdf.metanetx.org/sparql\n",
    "%format JSON"
   ]
  },
  {
   "cell_type": "code",
   "execution_count": 12,
   "metadata": {},
   "outputs": [
    {
     "data": {
      "text/html": [
       "<div class=\"krn-spql\"><table><tr class=hdr><th>identifier</th></tr><tr class=odd><td class=val>mnxr165934</td></tr><tr class=even><td class=val>mnxr145046c3</td></tr></table><div class=\"tinfo\">Total: 2, Shown: 2</div></div>"
      ]
     },
     "metadata": {},
     "output_type": "display_data"
    }
   ],
   "source": [
    "PREFIX mnx: <https://rdf.metanetx.org/schema/>\n",
    "PREFIX owl: <http://www.w3.org/2002/07/owl#>\n",
    "PREFIX rdf: <http://www.w3.org/1999/02/22-rdf-syntax-ns#>\n",
    "PREFIX rdfs: <http://www.w3.org/2000/01/rdf-schema#>\n",
    "PREFIX up: <http://purl.uniprot.org/uniprot/>\n",
    "\n",
    "SELECT DISTINCT ?identifier \n",
    "WHERE\n",
    "{\n",
    "  \t?protein a mnx:PEPT .\n",
    " \t?protein mnx:peptXref up:Q18A79 .\n",
    "  \n",
    "    ?cata mnx:pept ?protein ;\n",
    "          rdfs:label ?catal .\n",
    "  \n",
    "    ?gene_pr mnx:cata ?cata ;\n",
    "         mnx:reac ?reac .\n",
    "  \n",
    "    ?reac rdfs:label ?identifier .\n",
    "\n",
    "}"
   ]
  },
  {
   "cell_type": "markdown",
   "metadata": {},
   "source": [
    "\n",
    "FEDERATED QUERY - UniProt and MetaNetX\n",
    "\n",
    "Q10: 5 POINTS:  What is the official Gene ID (UniProt calls this a “mnemonic”) and the MetaNetX Reaction identifier (mnxr…..) for the protein that has “Starch synthase” catalytic activity in Clostridium difficile (taxon 272563).\n"
   ]
  },
  {
   "cell_type": "code",
   "execution_count": 22,
   "metadata": {},
   "outputs": [
    {
     "data": {
      "text/html": [
       "<div class=\"krn-spql\"><table><tr class=hdr><th>gene</th>\n",
       "<th>identifier</th></tr></table><div class=\"tinfo\">Total: 0, Shown: 0</div></div>"
      ]
     },
     "metadata": {},
     "output_type": "display_data"
    }
   ],
   "source": [
    "PREFIX up: <http://purl.uniprot.org/core/>\n",
    "PREFIX mnx: <https://rdf.metanetx.org/schema/>\n",
    "PREFIX rdfs:<http://www.w3.org/2000/01/rdf-schema#>\n",
    "PREFIX taxon: <http://purl.uniprot.org/taxonomy/>\n",
    "PREFIX GO: <http://purl.obolibrary.org/obo/GO_>\n",
    "\n",
    "\n",
    "SELECT ?gene ?identifier\n",
    "\n",
    "WHERE\n",
    "{\n",
    "  ?protein a up:Protein ;\n",
    "    up:mnemonic ?gene ;\n",
    "    up:organism  taxon:272563 ;\n",
    "    up:classifiedWith GO:0009011 .\n",
    "   \n",
    "}\n",
    "  #SERVICE <https://rdf.metanetx.org/sparql> {}\n",
    "\n",
    "\n"
   ]
  },
  {
   "cell_type": "code",
   "execution_count": null,
   "metadata": {},
   "outputs": [],
   "source": []
  }
 ],
 "metadata": {
  "kernelspec": {
   "display_name": "SPARQL",
   "language": "sparql",
   "name": "sparql"
  },
  "language_info": {
   "codemirror_mode": {
    "name": "sparql"
   },
   "mimetype": "application/sparql-query",
   "name": "sparql",
   "pygments_lexer": "sparql-nb"
  }
 },
 "nbformat": 4,
 "nbformat_minor": 2
}
